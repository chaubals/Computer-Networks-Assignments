{
  "cells": [
    {
      "cell_type": "markdown",
      "metadata": {
        "id": "JQhZfu0i9EiM"
      },
      "source": [
        "<h1 style='color:#7F3E6E' align='center'>Pretest</h1>"
      ]
    },
    {
      "cell_type": "markdown",
      "metadata": {
        "id": "SWFXHiqw9EiO"
      },
      "source": [
        "<h4 style='color:#3F9E3F;font:bold;border:1px skyblue solid;padding:10px;border-radius:15px'>Math, Simulation and Hardware <i><mark>(Evaluation only)</mark></i></h4>"
      ]
    },
    {
      "cell_type": "markdown",
      "metadata": {
        "id": "UgLc7pJh9EiO"
      },
      "source": [
        "<div style='font-size:20px'>Q1. For a wireless network, the gateway send a message, consisting of 10 packets, to a sensor through a down link channel. The packet drop rate is assumed to be 20%. 1) How many packets the gateway should send, averagely, to have the message delivered successfull to the sensor. Build up a simulation to validate your conclusions.\n",
        "</div>"
      ]
    },
    {
      "cell_type": "code",
      "execution_count": null,
      "metadata": {
        "colab": {
          "base_uri": "https://localhost:8080/"
        },
        "id": "HLOxssq79EiP",
        "outputId": "bf4d92bd-5f3e-447f-872c-a214322362bc"
      },
      "outputs": [
        {
          "output_type": "stream",
          "name": "stdout",
          "text": [
            "Packets sent: 14\n"
          ]
        }
      ],
      "source": [
        "#Python simulation for packet delivery:\n",
        "\n",
        "import random\n",
        "\n",
        "def simulate_packet_delivery(drop_rate, total_packets_needed):\n",
        "    success_rate = 1 - drop_rate  # Probability of a successful packet delivery\n",
        "    packets_sent = 0\n",
        "    successful_packets = 0\n",
        "\n",
        "    while successful_packets < total_packets_needed:\n",
        "        packets_sent += 1\n",
        "        if random.random() < success_rate:\n",
        "            successful_packets += 1\n",
        "\n",
        "    return packets_sent\n",
        "\n",
        "# Parameters\n",
        "drop_rate = 0.2  # 20% drop rate\n",
        "total_packets_needed = 10  # We need 10 successful packets\n",
        "\n",
        "# Run the simulation\n",
        "packets_sent = simulate_packet_delivery(drop_rate, total_packets_needed)\n",
        "print(f'Packets sent: {packets_sent}')"
      ]
    },
    {
      "cell_type": "markdown",
      "metadata": {
        "id": "8mNuAl-V9EiP"
      },
      "source": []
    },
    {
      "cell_type": "markdown",
      "metadata": {
        "id": "ot8nAQAP9EiP"
      },
      "source": [
        "<div style='font-size:20px'>Q2. Node A is connected with Node B through 5 links each having a $20\\%$ chance of working. Assume that all links are independent.\n",
        "<ol>\n",
        "    <li>Find the probabilities of the cases listed below.</li>\n",
        "    <ol>\n",
        "        <li>one link works but the rest fail.</li>\n",
        "        <li>two link work but the rest fail.</li>\n",
        "        <li>three link work but the rest fail.</li>\n",
        "        <li>four link work but the rest fail.</li>\n",
        "        <li>all fail.</li>\n",
        "    </ol>\n",
        "    <li>Find out the numbers of the Cases listed above ? </li>\n",
        "    <li>What is the probability of a message can be sent from Node A to Node B, successfully ?</li>\n",
        "</ol>\n",
        "</div>"
      ]
    },
    {
      "cell_type": "code",
      "source": [],
      "metadata": {
        "id": "uSI3MVyYQTOd"
      },
      "execution_count": null,
      "outputs": []
    },
    {
      "cell_type": "markdown",
      "source": [
        "Solution:\n",
        "1. One link works: 5C1 (0.2)(0.8)^4 = 0.4096\n",
        "2. Two links work: 5C2 (0.2)^2 (0.8)^3 = 0.2048\n",
        "3. Three links work: 5C3 (0.2)^3 (0.8)^2 = 0.0512\n",
        "4. Four links work: 5C4 (0.2)^4 (0.8) = 0.0064\n",
        "5. All links fail: 5C0 (0.8)^5 = 0.3277\n",
        "6. Probability of sending message from Node A to Node B => All links pass = (0.2)^5 = 0.00032 (0.032%)"
      ],
      "metadata": {
        "id": "8-C47bCOQYgG"
      }
    },
    {
      "cell_type": "markdown",
      "metadata": {
        "id": "C3cfDn259EiQ"
      },
      "source": [
        "<div style = 'font-size:20px'>Q3. Order two ESP32 boards and one Gyroscope sensor from Amazon and establish a WiFi link to send UDP packet between the ESP32 board, as a client, and your computer, as server.\n",
        "<ol>\n",
        "    <li>The ording link is listed in another pdf file</li>\n",
        "    <li>Install Arduino IDE and upload the provided codes. Refer to another pdf file as well</li>\n",
        "    <li>Run given python code with Spyder or other python IDE.</li>\n",
        "    <li>Make a short video to explain what you have done in 2-3 mintues.</li>\n",
        "</ol>\n",
        "</div>"
      ]
    },
    {
      "cell_type": "markdown",
      "metadata": {
        "id": "vRrbCK-S9EiQ"
      },
      "source": [
        "<h4 style='text-align:right;color:crimson'>How am I doing ? </h4>"
      ]
    },
    {
      "cell_type": "markdown",
      "metadata": {
        "id": "NeZbenhg9EiR"
      },
      "source": [
        "<img align='right' width='20%' heigh='20%' src='https://media.giphy.com/media/qEoA7ZnFEK6nC/giphy.gif'>"
      ]
    }
  ],
  "metadata": {
    "kernelspec": {
      "display_name": "Python 3 (ipykernel)",
      "language": "python",
      "name": "python3"
    },
    "language_info": {
      "codemirror_mode": {
        "name": "ipython",
        "version": 3
      },
      "file_extension": ".py",
      "mimetype": "text/x-python",
      "name": "python",
      "nbconvert_exporter": "python",
      "pygments_lexer": "ipython3",
      "version": "3.9.17"
    },
    "colab": {
      "provenance": []
    }
  },
  "nbformat": 4,
  "nbformat_minor": 0
}