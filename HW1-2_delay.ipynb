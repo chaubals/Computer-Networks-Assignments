{
 "cells": [
  {
   "cell_type": "markdown",
   "metadata": {},
   "source": [
    "<h1 style='color:#7F3E6E' align='center'>HW1-2</h1>"
   ]
  },
  {
   "cell_type": "markdown",
   "metadata": {},
   "source": [
    "<h4 style='color:#3F9E3F;font:bold;border:1px skyblue solid;padding:10px;border-radius:15px'>Queuing Delay</h4>"
   ]
  },
  {
   "cell_type": "markdown",
   "metadata": {},
   "source": [
    "<div style='font-size:20px;color:maroon'>\n",
    "    <ol> The main function of a relay is to receive and forward packages. Assume data rate $R_b = 1e6bits/s$ and package length $L = 1024$. If the package arrival rate is $\\lambda = 400 packages/s$.  \n",
    "        <li>What are the service rate and traffic intensity.</li>\n",
    "        <li>What are the queuing length and queuing dealy ?</li> \n",
    "        <li>Plot the curver of queuing dealy versus package arrival rate where $\\lambda$ change from $200$ to $1000$ packages/s?</li> \n",
    "        \n",
    "</div>"
   ]
  },
  {
   "cell_type": "markdown",
   "metadata": {},
   "source": [
    "<hr style = \"border: dashed rgb (0,255,0) 1.0px; background-color: rgb(170,0,0); height: 1px;\"/>"
   ]
  },
  {
   "cell_type": "markdown",
   "metadata": {},
   "source": [
    "<h5 class = \"text-warning\"> Wirte your solution here in plain text, html and math in Latex (do not know what it is ? Search it from Internet)</h5>"
   ]
  },
  {
   "cell_type": "code",
   "execution_count": null,
   "metadata": {},
   "outputs": [],
   "source": [
    "#input your codes"
   ]
  },
  {
   "cell_type": "markdown",
   "metadata": {},
   "source": [
    "<hr style = \"border: dashed rgb (0,255,0) 1.0px; background-color: rgb(170,0,0); height: 1px;\"/>"
   ]
  },
  {
   "cell_type": "markdown",
   "metadata": {},
   "source": [
    "<h5 class = \"text-danger\">You must attach the MAC address of your computer for homework submission !</h5>"
   ]
  },
  {
   "cell_type": "code",
   "execution_count": 11,
   "metadata": {},
   "outputs": [
    {
     "name": "stdout",
     "output_type": "stream",
     "text": [
      "cc:2f:71:51:dd:80\n",
      "2020-08-29 19:01:06\n"
     ]
    }
   ],
   "source": [
    "#conda install -c conda-forge scapy\n",
    "#pip3 install scapy\n",
    "from scapy.all import Ether\n",
    "print(Ether().src)  \n",
    "\n",
    "import time\n",
    "ts = time.time()\n",
    "import datetime\n",
    "st = datetime.datetime.fromtimestamp(ts).strftime('%Y-%m-%d %H:%M:%S')\n",
    "print(st)"
   ]
  },
  {
   "cell_type": "markdown",
   "metadata": {},
   "source": [
    "<h5 style=\"text-align:right;\" class = \"text-primary\"> You can delete this guy, if you do not like him!</h5>"
   ]
  },
  {
   "cell_type": "markdown",
   "metadata": {},
   "source": [
    "<img align='right' width='20%' heigh='20%' src='https://media.giphy.com/media/qEoA7ZnFEK6nC/giphy.gif'>"
   ]
  }
 ],
 "metadata": {
  "kernelspec": {
   "display_name": "Python 3 (ipykernel)",
   "language": "python",
   "name": "python3"
  },
  "language_info": {
   "codemirror_mode": {
    "name": "ipython",
    "version": 3
   },
   "file_extension": ".py",
   "mimetype": "text/x-python",
   "name": "python",
   "nbconvert_exporter": "python",
   "pygments_lexer": "ipython3",
   "version": "3.9.17"
  }
 },
 "nbformat": 4,
 "nbformat_minor": 1
}
